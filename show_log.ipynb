{
 "cells": [
  {
   "cell_type": "code",
   "execution_count": 8,
   "metadata": {
    "collapsed": true
   },
   "outputs": [],
   "source": [
    "import pandas as pd\n",
    "import glob\n",
    "import matplotlib.pyplot as plt\n",
    "import os"
   ]
  },
  {
   "cell_type": "code",
   "execution_count": 24,
   "metadata": {
    "collapsed": true
   },
   "outputs": [],
   "source": [
    "def show_log():\n",
    "    x = []\n",
    "    acc = []\n",
    "    loss = []\n",
    "    val_loss = []\n",
    "    val_acc = []\n",
    "    for fname in glob.glob('./result/*.log'):\n",
    "        file = pd.read_csv(fname)\n",
    "        x = file['epoch']\n",
    "        acc = file['acc']\n",
    "        loss = file['loss']\n",
    "        val_acc = file['val_acc']\n",
    "        val_loss = file['val_loss']\n",
    "        \n",
    "        prefix = f'{os.path.split(os.path.splitext(fname)[-2])[-1]}'\n",
    "        plt.title(f'{prefix}_acc')\n",
    "        plt.plot(x, acc, label='acc')\n",
    "        plt.plot(x, val_acc, label='val_acc')\n",
    "        plt.savefig(f'{prefix}_acc.png')\n",
    "        plt.legend()\n",
    "        #plt.show()\n",
    "\n",
    "        plt.title(f'{prefix}_loss')\n",
    "        plt.plot(x, loss, label='loss')\n",
    "        plt.plot(x, val_loss, label='val_loss')\n",
    "        plt.legend()\n",
    "        plt.savefig(f'{prefix}_loss.png')\n",
    "        #plt.show()\n",
    "   "
   ]
  },
  {
   "cell_type": "code",
   "execution_count": 25,
   "metadata": {},
   "outputs": [],
   "source": [
    "show_log()"
   ]
  },
  {
   "cell_type": "raw",
   "metadata": {
    "collapsed": true
   },
   "source": []
  }
 ],
 "metadata": {
  "kernelspec": {
   "display_name": "Python 3",
   "language": "python",
   "name": "python3"
  },
  "language_info": {
   "codemirror_mode": {
    "name": "ipython",
    "version": 3
   },
   "file_extension": ".py",
   "mimetype": "text/x-python",
   "name": "python",
   "nbconvert_exporter": "python",
   "pygments_lexer": "ipython3",
   "version": "3.6.1"
  }
 },
 "nbformat": 4,
 "nbformat_minor": 2
}
